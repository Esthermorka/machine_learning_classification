{
 "cells": [
  {
   "cell_type": "markdown",
   "id": "40192008",
   "metadata": {},
   "source": [
    "### Retail Business Aalysis\n",
    "\n",
    "###### Overview\n",
    " The dataset was gotten from an online retail business  that is looking to optimize sales and cut down on costs due to the economic down turn. The data set provides has various features that would help in suggesting way at which these goal could be achieved, some of the featurre of the data include:\n",
    " \n",
    "Month:  The month in which the orders were made.\n",
    "\n",
    "Year : The year in which the orders were made\n",
    "\n",
    "Total Orders: The total number of orders placed in a specific month and year.\n",
    "\n",
    "Gross Sales: The total sales amount before any deductions or adjustments.\n",
    "\n",
    "Discounts: The total amount deducted from Gross Sales as discounts.\n",
    "\n",
    "Returns : The total amount deducted from Gross Sales due to returned items.\n",
    "\n",
    "Net Sales: The final sales amount after deducting Discounts and Returns from Gross Sales.\n",
    "\n",
    "Shipping: The cost associated with shipping orders\n",
    "\n",
    "Total Sales:The total revenue generated, including Net Sales and Shipping.\n",
    "\n",
    "\n",
    "##### Problem statement:\n",
    "  - How can sales be optimized? \n",
    "  - How cost be reduced?\n",
    "##### Problem Framing \n",
    "\n",
    "With data analysis expertise, the focus will be on:\n",
    "- understanding the yearly trends of sales and orders to identify peak months, seasonal patterns, and any noticeable trends in sales\n",
    "- assessing  the impact of shipping cost, discounts and returns on  sales. \n",
    "\n",
    "\n",
    "#### Step 1: Data Loading\n",
    "- Read the provided dataset into a Pandas DataFrame.\n",
    "\n",
    "##### Step 2: Data Exploration\n",
    "- Use methods like `head()`, `info()`, and `describe()` to explore the dataset.\n",
    "\n",
    "##### Step 3: Column Understanding\n",
    "- Drill down into each column to understand what they represent.\n",
    "\n",
    "##### Step 4: Data Cleaning\n",
    "- Check for null values, incorrect data, invalid data types, and duplicates.\n",
    "- Handle missing or incorrect values appropriately.\n",
    "- Ensure that data types are appropriate for each column.\n",
    "- Remove duplicate data if any.\n",
    "\n",
    "##### Step 5: Export Cleaned Data\n",
    "- Save the cleaned data to a new CSV file using the `to_csv()` method.\n",
    "\n",
    "##### Step 6: Exploration and Analysis\n",
    "- Utilize visualization tools like Matplotlib and Seaborn for in-depth exploration.\n",
    "- Analyze trends in Total Orders, Gross Sales, Discounts, Returns, Net Sales, Shipping, and Total Sales.\n",
    "- Identify peak months, patterns, and areas for improvement.\n",
    "- Summarize findings and provide actionable insights for optimizing sales and reducing costs.\n"
   ]
  },
  {
   "cell_type": "code",
   "execution_count": 36,
   "id": "fad6bec6",
   "metadata": {},
   "outputs": [],
   "source": [
    "#Importing necessary libaries \n",
    "import numpy as np\n",
    "import pandas as pd\n",
    "import matplotlib.pyplot as plt\n",
    "import seaborn as sb\n",
    "\n",
    "%matplotlib inline"
   ]
  },
  {
   "cell_type": "code",
   "execution_count": 37,
   "id": "a86e3c02",
   "metadata": {},
   "outputs": [],
   "source": [
    "data = pd.read_csv('business.retailsales2.csv')"
   ]
  },
  {
   "cell_type": "code",
   "execution_count": 38,
   "id": "0c4da0f6",
   "metadata": {},
   "outputs": [
    {
     "data": {
      "text/html": [
       "<div>\n",
       "<style scoped>\n",
       "    .dataframe tbody tr th:only-of-type {\n",
       "        vertical-align: middle;\n",
       "    }\n",
       "\n",
       "    .dataframe tbody tr th {\n",
       "        vertical-align: top;\n",
       "    }\n",
       "\n",
       "    .dataframe thead th {\n",
       "        text-align: right;\n",
       "    }\n",
       "</style>\n",
       "<table border=\"1\" class=\"dataframe\">\n",
       "  <thead>\n",
       "    <tr style=\"text-align: right;\">\n",
       "      <th></th>\n",
       "      <th>Month</th>\n",
       "      <th>Year</th>\n",
       "      <th>Total Orders</th>\n",
       "      <th>Gross Sales</th>\n",
       "      <th>Discounts</th>\n",
       "      <th>Returns</th>\n",
       "      <th>Net Sales</th>\n",
       "      <th>Shipping</th>\n",
       "      <th>Total Sales</th>\n",
       "    </tr>\n",
       "  </thead>\n",
       "  <tbody>\n",
       "    <tr>\n",
       "      <th>0</th>\n",
       "      <td>January</td>\n",
       "      <td>2017</td>\n",
       "      <td>73</td>\n",
       "      <td>8861.5</td>\n",
       "      <td>-129.40</td>\n",
       "      <td>-448.45</td>\n",
       "      <td>8283.65</td>\n",
       "      <td>1088.30</td>\n",
       "      <td>9371.95</td>\n",
       "    </tr>\n",
       "    <tr>\n",
       "      <th>1</th>\n",
       "      <td>February</td>\n",
       "      <td>2017</td>\n",
       "      <td>56</td>\n",
       "      <td>6908.5</td>\n",
       "      <td>-104.70</td>\n",
       "      <td>-416.20</td>\n",
       "      <td>6387.60</td>\n",
       "      <td>892.45</td>\n",
       "      <td>7280.05</td>\n",
       "    </tr>\n",
       "    <tr>\n",
       "      <th>2</th>\n",
       "      <td>March</td>\n",
       "      <td>2017</td>\n",
       "      <td>60</td>\n",
       "      <td>5778.5</td>\n",
       "      <td>-172.20</td>\n",
       "      <td>-1017.20</td>\n",
       "      <td>4589.10</td>\n",
       "      <td>707.43</td>\n",
       "      <td>5296.53</td>\n",
       "    </tr>\n",
       "    <tr>\n",
       "      <th>3</th>\n",
       "      <td>April</td>\n",
       "      <td>2017</td>\n",
       "      <td>70</td>\n",
       "      <td>8814.0</td>\n",
       "      <td>-281.40</td>\n",
       "      <td>0.00</td>\n",
       "      <td>8532.60</td>\n",
       "      <td>1068.30</td>\n",
       "      <td>9600.90</td>\n",
       "    </tr>\n",
       "    <tr>\n",
       "      <th>4</th>\n",
       "      <td>May</td>\n",
       "      <td>2017</td>\n",
       "      <td>54</td>\n",
       "      <td>6677.0</td>\n",
       "      <td>-185.75</td>\n",
       "      <td>-253.80</td>\n",
       "      <td>6237.45</td>\n",
       "      <td>866.46</td>\n",
       "      <td>7103.91</td>\n",
       "    </tr>\n",
       "  </tbody>\n",
       "</table>\n",
       "</div>"
      ],
      "text/plain": [
       "      Month  Year  Total Orders  Gross Sales  Discounts  Returns  Net Sales  \\\n",
       "0   January  2017            73       8861.5    -129.40  -448.45    8283.65   \n",
       "1  February  2017            56       6908.5    -104.70  -416.20    6387.60   \n",
       "2     March  2017            60       5778.5    -172.20 -1017.20    4589.10   \n",
       "3     April  2017            70       8814.0    -281.40     0.00    8532.60   \n",
       "4       May  2017            54       6677.0    -185.75  -253.80    6237.45   \n",
       "\n",
       "   Shipping  Total Sales  \n",
       "0   1088.30      9371.95  \n",
       "1    892.45      7280.05  \n",
       "2    707.43      5296.53  \n",
       "3   1068.30      9600.90  \n",
       "4    866.46      7103.91  "
      ]
     },
     "execution_count": 38,
     "metadata": {},
     "output_type": "execute_result"
    }
   ],
   "source": [
    "data.head()"
   ]
  },
  {
   "cell_type": "code",
   "execution_count": 39,
   "id": "4bd16b09",
   "metadata": {},
   "outputs": [
    {
     "data": {
      "text/html": [
       "<div>\n",
       "<style scoped>\n",
       "    .dataframe tbody tr th:only-of-type {\n",
       "        vertical-align: middle;\n",
       "    }\n",
       "\n",
       "    .dataframe tbody tr th {\n",
       "        vertical-align: top;\n",
       "    }\n",
       "\n",
       "    .dataframe thead th {\n",
       "        text-align: right;\n",
       "    }\n",
       "</style>\n",
       "<table border=\"1\" class=\"dataframe\">\n",
       "  <thead>\n",
       "    <tr style=\"text-align: right;\">\n",
       "      <th></th>\n",
       "      <th>Month</th>\n",
       "      <th>Year</th>\n",
       "      <th>Total Orders</th>\n",
       "      <th>Gross Sales</th>\n",
       "      <th>Discounts</th>\n",
       "      <th>Returns</th>\n",
       "      <th>Net Sales</th>\n",
       "      <th>Shipping</th>\n",
       "      <th>Total Sales</th>\n",
       "    </tr>\n",
       "  </thead>\n",
       "  <tbody>\n",
       "    <tr>\n",
       "      <th>31</th>\n",
       "      <td>August</td>\n",
       "      <td>2019</td>\n",
       "      <td>105</td>\n",
       "      <td>8839.50</td>\n",
       "      <td>-201.67</td>\n",
       "      <td>-84.37</td>\n",
       "      <td>8553.46</td>\n",
       "      <td>1724.75</td>\n",
       "      <td>10278.21</td>\n",
       "    </tr>\n",
       "    <tr>\n",
       "      <th>32</th>\n",
       "      <td>September</td>\n",
       "      <td>2019</td>\n",
       "      <td>88</td>\n",
       "      <td>9077.45</td>\n",
       "      <td>-354.89</td>\n",
       "      <td>-853.35</td>\n",
       "      <td>7869.21</td>\n",
       "      <td>1567.65</td>\n",
       "      <td>9436.86</td>\n",
       "    </tr>\n",
       "    <tr>\n",
       "      <th>33</th>\n",
       "      <td>October</td>\n",
       "      <td>2019</td>\n",
       "      <td>97</td>\n",
       "      <td>9132.25</td>\n",
       "      <td>-279.42</td>\n",
       "      <td>-1572.55</td>\n",
       "      <td>7280.28</td>\n",
       "      <td>1631.25</td>\n",
       "      <td>8911.53</td>\n",
       "    </tr>\n",
       "    <tr>\n",
       "      <th>34</th>\n",
       "      <td>November</td>\n",
       "      <td>2019</td>\n",
       "      <td>272</td>\n",
       "      <td>23997.90</td>\n",
       "      <td>-776.84</td>\n",
       "      <td>-364.51</td>\n",
       "      <td>22856.55</td>\n",
       "      <td>4824.75</td>\n",
       "      <td>27681.30</td>\n",
       "    </tr>\n",
       "    <tr>\n",
       "      <th>35</th>\n",
       "      <td>December</td>\n",
       "      <td>2019</td>\n",
       "      <td>342</td>\n",
       "      <td>31183.90</td>\n",
       "      <td>-2269.51</td>\n",
       "      <td>-1311.18</td>\n",
       "      <td>27603.21</td>\n",
       "      <td>5703.25</td>\n",
       "      <td>33306.46</td>\n",
       "    </tr>\n",
       "  </tbody>\n",
       "</table>\n",
       "</div>"
      ],
      "text/plain": [
       "        Month  Year  Total Orders  Gross Sales  Discounts  Returns  Net Sales  \\\n",
       "31     August  2019           105      8839.50    -201.67   -84.37    8553.46   \n",
       "32  September  2019            88      9077.45    -354.89  -853.35    7869.21   \n",
       "33    October  2019            97      9132.25    -279.42 -1572.55    7280.28   \n",
       "34   November  2019           272     23997.90    -776.84  -364.51   22856.55   \n",
       "35   December  2019           342     31183.90   -2269.51 -1311.18   27603.21   \n",
       "\n",
       "    Shipping  Total Sales  \n",
       "31   1724.75     10278.21  \n",
       "32   1567.65      9436.86  \n",
       "33   1631.25      8911.53  \n",
       "34   4824.75     27681.30  \n",
       "35   5703.25     33306.46  "
      ]
     },
     "execution_count": 39,
     "metadata": {},
     "output_type": "execute_result"
    }
   ],
   "source": [
    "data.tail()"
   ]
  },
  {
   "cell_type": "code",
   "execution_count": 40,
   "id": "248cc02c",
   "metadata": {},
   "outputs": [
    {
     "data": {
      "text/plain": [
       "(36, 9)"
      ]
     },
     "execution_count": 40,
     "metadata": {},
     "output_type": "execute_result"
    }
   ],
   "source": [
    "data.shape"
   ]
  },
  {
   "cell_type": "code",
   "execution_count": 41,
   "id": "6e44c905",
   "metadata": {
    "scrolled": true
   },
   "outputs": [
    {
     "name": "stdout",
     "output_type": "stream",
     "text": [
      "<class 'pandas.core.frame.DataFrame'>\n",
      "RangeIndex: 36 entries, 0 to 35\n",
      "Data columns (total 9 columns):\n",
      " #   Column        Non-Null Count  Dtype  \n",
      "---  ------        --------------  -----  \n",
      " 0   Month         36 non-null     object \n",
      " 1   Year          36 non-null     int64  \n",
      " 2   Total Orders  36 non-null     int64  \n",
      " 3   Gross Sales   36 non-null     float64\n",
      " 4   Discounts     36 non-null     float64\n",
      " 5   Returns       36 non-null     float64\n",
      " 6   Net Sales     36 non-null     float64\n",
      " 7   Shipping      36 non-null     float64\n",
      " 8   Total Sales   36 non-null     float64\n",
      "dtypes: float64(6), int64(2), object(1)\n",
      "memory usage: 2.7+ KB\n"
     ]
    }
   ],
   "source": [
    "data.info()"
   ]
  },
  {
   "cell_type": "markdown",
   "id": "e5ae3174",
   "metadata": {},
   "source": [
    "The dataset has 36 rows and 9 column."
   ]
  },
  {
   "cell_type": "code",
   "execution_count": 42,
   "id": "231eae0e",
   "metadata": {},
   "outputs": [],
   "source": [
    "#Converting the values in the return and discount column to an abosolute value using the .abs() method\n",
    "\n",
    "data['Discounts'] =data['Discounts'].abs()\n",
    "data['Returns'] =data['Returns'].abs()"
   ]
  },
  {
   "cell_type": "code",
   "execution_count": 43,
   "id": "8dad38c3",
   "metadata": {
    "scrolled": false
   },
   "outputs": [
    {
     "data": {
      "text/html": [
       "<div>\n",
       "<style scoped>\n",
       "    .dataframe tbody tr th:only-of-type {\n",
       "        vertical-align: middle;\n",
       "    }\n",
       "\n",
       "    .dataframe tbody tr th {\n",
       "        vertical-align: top;\n",
       "    }\n",
       "\n",
       "    .dataframe thead th {\n",
       "        text-align: right;\n",
       "    }\n",
       "</style>\n",
       "<table border=\"1\" class=\"dataframe\">\n",
       "  <thead>\n",
       "    <tr style=\"text-align: right;\">\n",
       "      <th></th>\n",
       "      <th>Month</th>\n",
       "      <th>Year</th>\n",
       "      <th>Total Orders</th>\n",
       "      <th>Gross Sales</th>\n",
       "      <th>Discounts</th>\n",
       "      <th>Returns</th>\n",
       "      <th>Net Sales</th>\n",
       "      <th>Shipping</th>\n",
       "      <th>Total Sales</th>\n",
       "    </tr>\n",
       "  </thead>\n",
       "  <tbody>\n",
       "    <tr>\n",
       "      <th>0</th>\n",
       "      <td>January</td>\n",
       "      <td>2017</td>\n",
       "      <td>73</td>\n",
       "      <td>8861.5</td>\n",
       "      <td>129.40</td>\n",
       "      <td>448.45</td>\n",
       "      <td>8283.65</td>\n",
       "      <td>1088.30</td>\n",
       "      <td>9371.95</td>\n",
       "    </tr>\n",
       "    <tr>\n",
       "      <th>1</th>\n",
       "      <td>February</td>\n",
       "      <td>2017</td>\n",
       "      <td>56</td>\n",
       "      <td>6908.5</td>\n",
       "      <td>104.70</td>\n",
       "      <td>416.20</td>\n",
       "      <td>6387.60</td>\n",
       "      <td>892.45</td>\n",
       "      <td>7280.05</td>\n",
       "    </tr>\n",
       "    <tr>\n",
       "      <th>2</th>\n",
       "      <td>March</td>\n",
       "      <td>2017</td>\n",
       "      <td>60</td>\n",
       "      <td>5778.5</td>\n",
       "      <td>172.20</td>\n",
       "      <td>1017.20</td>\n",
       "      <td>4589.10</td>\n",
       "      <td>707.43</td>\n",
       "      <td>5296.53</td>\n",
       "    </tr>\n",
       "    <tr>\n",
       "      <th>3</th>\n",
       "      <td>April</td>\n",
       "      <td>2017</td>\n",
       "      <td>70</td>\n",
       "      <td>8814.0</td>\n",
       "      <td>281.40</td>\n",
       "      <td>0.00</td>\n",
       "      <td>8532.60</td>\n",
       "      <td>1068.30</td>\n",
       "      <td>9600.90</td>\n",
       "    </tr>\n",
       "    <tr>\n",
       "      <th>4</th>\n",
       "      <td>May</td>\n",
       "      <td>2017</td>\n",
       "      <td>54</td>\n",
       "      <td>6677.0</td>\n",
       "      <td>185.75</td>\n",
       "      <td>253.80</td>\n",
       "      <td>6237.45</td>\n",
       "      <td>866.46</td>\n",
       "      <td>7103.91</td>\n",
       "    </tr>\n",
       "  </tbody>\n",
       "</table>\n",
       "</div>"
      ],
      "text/plain": [
       "      Month  Year  Total Orders  Gross Sales  Discounts  Returns  Net Sales  \\\n",
       "0   January  2017            73       8861.5     129.40   448.45    8283.65   \n",
       "1  February  2017            56       6908.5     104.70   416.20    6387.60   \n",
       "2     March  2017            60       5778.5     172.20  1017.20    4589.10   \n",
       "3     April  2017            70       8814.0     281.40     0.00    8532.60   \n",
       "4       May  2017            54       6677.0     185.75   253.80    6237.45   \n",
       "\n",
       "   Shipping  Total Sales  \n",
       "0   1088.30      9371.95  \n",
       "1    892.45      7280.05  \n",
       "2    707.43      5296.53  \n",
       "3   1068.30      9600.90  \n",
       "4    866.46      7103.91  "
      ]
     },
     "execution_count": 43,
     "metadata": {},
     "output_type": "execute_result"
    }
   ],
   "source": [
    "data.head()"
   ]
  },
  {
   "cell_type": "code",
   "execution_count": 66,
   "id": "10f05115",
   "metadata": {},
   "outputs": [],
   "source": [
    "data['Year'] = data['Year'].astype('object')"
   ]
  },
  {
   "cell_type": "code",
   "execution_count": 67,
   "id": "c7d75605",
   "metadata": {},
   "outputs": [
    {
     "name": "stdout",
     "output_type": "stream",
     "text": [
      "<class 'pandas.core.frame.DataFrame'>\n",
      "RangeIndex: 36 entries, 0 to 35\n",
      "Data columns (total 9 columns):\n",
      " #   Column        Non-Null Count  Dtype  \n",
      "---  ------        --------------  -----  \n",
      " 0   Month         36 non-null     object \n",
      " 1   Year          36 non-null     object \n",
      " 2   Total Orders  36 non-null     int64  \n",
      " 3   Gross Sales   36 non-null     float64\n",
      " 4   Discounts     36 non-null     float64\n",
      " 5   Returns       36 non-null     float64\n",
      " 6   Net Sales     36 non-null     float64\n",
      " 7   Shipping      36 non-null     float64\n",
      " 8   Total Sales   36 non-null     float64\n",
      "dtypes: float64(6), int64(1), object(2)\n",
      "memory usage: 2.7+ KB\n"
     ]
    }
   ],
   "source": [
    "data.info()"
   ]
  },
  {
   "cell_type": "code",
   "execution_count": 44,
   "id": "1cbe565a",
   "metadata": {},
   "outputs": [
    {
     "data": {
      "text/html": [
       "<div>\n",
       "<style scoped>\n",
       "    .dataframe tbody tr th:only-of-type {\n",
       "        vertical-align: middle;\n",
       "    }\n",
       "\n",
       "    .dataframe tbody tr th {\n",
       "        vertical-align: top;\n",
       "    }\n",
       "\n",
       "    .dataframe thead th {\n",
       "        text-align: right;\n",
       "    }\n",
       "</style>\n",
       "<table border=\"1\" class=\"dataframe\">\n",
       "  <thead>\n",
       "    <tr style=\"text-align: right;\">\n",
       "      <th></th>\n",
       "      <th>Year</th>\n",
       "      <th>Total Orders</th>\n",
       "      <th>Gross Sales</th>\n",
       "      <th>Discounts</th>\n",
       "      <th>Returns</th>\n",
       "      <th>Net Sales</th>\n",
       "      <th>Shipping</th>\n",
       "      <th>Total Sales</th>\n",
       "    </tr>\n",
       "  </thead>\n",
       "  <tbody>\n",
       "    <tr>\n",
       "      <th>count</th>\n",
       "      <td>36.000000</td>\n",
       "      <td>36.000000</td>\n",
       "      <td>36.000000</td>\n",
       "      <td>36.000000</td>\n",
       "      <td>36.000000</td>\n",
       "      <td>36.000000</td>\n",
       "      <td>36.000000</td>\n",
       "      <td>36.000000</td>\n",
       "    </tr>\n",
       "    <tr>\n",
       "      <th>mean</th>\n",
       "      <td>2018.000000</td>\n",
       "      <td>97.138889</td>\n",
       "      <td>9844.926389</td>\n",
       "      <td>311.493889</td>\n",
       "      <td>474.958056</td>\n",
       "      <td>9058.474444</td>\n",
       "      <td>1579.391667</td>\n",
       "      <td>10637.941111</td>\n",
       "    </tr>\n",
       "    <tr>\n",
       "      <th>std</th>\n",
       "      <td>0.828079</td>\n",
       "      <td>57.458632</td>\n",
       "      <td>4936.386351</td>\n",
       "      <td>362.766989</td>\n",
       "      <td>488.820410</td>\n",
       "      <td>4497.185264</td>\n",
       "      <td>1011.170014</td>\n",
       "      <td>5475.621125</td>\n",
       "    </tr>\n",
       "    <tr>\n",
       "      <th>min</th>\n",
       "      <td>2017.000000</td>\n",
       "      <td>54.000000</td>\n",
       "      <td>5720.000000</td>\n",
       "      <td>51.500000</td>\n",
       "      <td>0.000000</td>\n",
       "      <td>4589.100000</td>\n",
       "      <td>695.420000</td>\n",
       "      <td>5296.530000</td>\n",
       "    </tr>\n",
       "    <tr>\n",
       "      <th>25%</th>\n",
       "      <td>2017.000000</td>\n",
       "      <td>68.000000</td>\n",
       "      <td>7059.875000</td>\n",
       "      <td>169.487500</td>\n",
       "      <td>73.277500</td>\n",
       "      <td>6428.250000</td>\n",
       "      <td>1083.300000</td>\n",
       "      <td>7633.692500</td>\n",
       "    </tr>\n",
       "    <tr>\n",
       "      <th>50%</th>\n",
       "      <td>2018.000000</td>\n",
       "      <td>82.500000</td>\n",
       "      <td>8850.500000</td>\n",
       "      <td>236.160000</td>\n",
       "      <td>299.875000</td>\n",
       "      <td>8076.430000</td>\n",
       "      <td>1341.650000</td>\n",
       "      <td>9404.405000</td>\n",
       "    </tr>\n",
       "    <tr>\n",
       "      <th>75%</th>\n",
       "      <td>2019.000000</td>\n",
       "      <td>97.500000</td>\n",
       "      <td>10150.700000</td>\n",
       "      <td>300.375000</td>\n",
       "      <td>867.200000</td>\n",
       "      <td>9534.000000</td>\n",
       "      <td>1632.132500</td>\n",
       "      <td>11153.687500</td>\n",
       "    </tr>\n",
       "    <tr>\n",
       "      <th>max</th>\n",
       "      <td>2019.000000</td>\n",
       "      <td>342.000000</td>\n",
       "      <td>31183.900000</td>\n",
       "      <td>2269.510000</td>\n",
       "      <td>1572.550000</td>\n",
       "      <td>27603.210000</td>\n",
       "      <td>5703.250000</td>\n",
       "      <td>33306.460000</td>\n",
       "    </tr>\n",
       "  </tbody>\n",
       "</table>\n",
       "</div>"
      ],
      "text/plain": [
       "              Year  Total Orders   Gross Sales    Discounts      Returns  \\\n",
       "count    36.000000     36.000000     36.000000    36.000000    36.000000   \n",
       "mean   2018.000000     97.138889   9844.926389   311.493889   474.958056   \n",
       "std       0.828079     57.458632   4936.386351   362.766989   488.820410   \n",
       "min    2017.000000     54.000000   5720.000000    51.500000     0.000000   \n",
       "25%    2017.000000     68.000000   7059.875000   169.487500    73.277500   \n",
       "50%    2018.000000     82.500000   8850.500000   236.160000   299.875000   \n",
       "75%    2019.000000     97.500000  10150.700000   300.375000   867.200000   \n",
       "max    2019.000000    342.000000  31183.900000  2269.510000  1572.550000   \n",
       "\n",
       "          Net Sales     Shipping   Total Sales  \n",
       "count     36.000000    36.000000     36.000000  \n",
       "mean    9058.474444  1579.391667  10637.941111  \n",
       "std     4497.185264  1011.170014   5475.621125  \n",
       "min     4589.100000   695.420000   5296.530000  \n",
       "25%     6428.250000  1083.300000   7633.692500  \n",
       "50%     8076.430000  1341.650000   9404.405000  \n",
       "75%     9534.000000  1632.132500  11153.687500  \n",
       "max    27603.210000  5703.250000  33306.460000  "
      ]
     },
     "execution_count": 44,
     "metadata": {},
     "output_type": "execute_result"
    }
   ],
   "source": [
    "data.describe()"
   ]
  },
  {
   "cell_type": "markdown",
   "id": "c5b207ec",
   "metadata": {},
   "source": [
    "- The data spans three years: 2017, 2018, and 2019.\n",
    "- The mean and median (50th percentile) are close, suggesting a relatively balanced distribution over these years.\n",
    "- The high value of standard deviation in the total sales and net sales column indicates there is variability in sales value. This suggests that sales value vary widely from one period to another, there might be months with substantially higher or lower sales compared to the average."
   ]
  },
  {
   "cell_type": "code",
   "execution_count": 45,
   "id": "c03dd1ae",
   "metadata": {},
   "outputs": [
    {
     "data": {
      "text/plain": [
       "Month           0\n",
       "Year            0\n",
       "Total Orders    0\n",
       "Gross Sales     0\n",
       "Discounts       0\n",
       "Returns         0\n",
       "Net Sales       0\n",
       "Shipping        0\n",
       "Total Sales     0\n",
       "dtype: int64"
      ]
     },
     "execution_count": 45,
     "metadata": {},
     "output_type": "execute_result"
    }
   ],
   "source": [
    "#Checking for null values\n",
    "data.isnull().sum()"
   ]
  },
  {
   "cell_type": "code",
   "execution_count": 46,
   "id": "eca28c25",
   "metadata": {},
   "outputs": [
    {
     "data": {
      "text/plain": [
       "0"
      ]
     },
     "execution_count": 46,
     "metadata": {},
     "output_type": "execute_result"
    }
   ],
   "source": [
    "#Checking for duplicates\n",
    "data.duplicated().sum()"
   ]
  },
  {
   "cell_type": "markdown",
   "id": "1de61004",
   "metadata": {},
   "source": [
    "### Data Exploration and Vizualization\n"
   ]
  },
  {
   "cell_type": "code",
   "execution_count": 47,
   "id": "06fd55da",
   "metadata": {
    "scrolled": true
   },
   "outputs": [
    {
     "data": {
      "image/png": "[encoded data removed]",
      "text/plain": [
       "<Figure size 432x288 with 1 Axes>"
      ]
     },
     "metadata": {
      "needs_background": "light"
     },
     "output_type": "display_data"
    }
   ],
   "source": [
    "plt.hist(data['Total Sales'])\n",
    "plt.show()"
   ]
  },
  {
   "cell_type": "markdown",
   "id": "ef2e8652",
   "metadata": {},
   "source": [
    "This plot shows clearly that majority of the total sales value are around the mean."
   ]
  },
  {
   "cell_type": "code",
   "execution_count": 48,
   "id": "52e3be6f",
   "metadata": {},
   "outputs": [
    {
     "data": {
      "text/plain": [
       "<AxesSubplot:xlabel='Total Sales'>"
      ]
     },
     "execution_count": 48,
     "metadata": {},
     "output_type": "execute_result"
    },
    {
     "data": {
      "image/png": "[encoded data removed]",
      "text/plain": [
       "<Figure size 432x288 with 1 Axes>"
      ]
     },
     "metadata": {
      "needs_background": "light"
     },
     "output_type": "display_data"
    }
   ],
   "source": [
    "sb.boxplot(x=data['Total Sales'])"
   ]
  },
  {
   "cell_type": "markdown",
   "id": "4f6cc5a5",
   "metadata": {},
   "source": [
    "There are two outliers in the total sales column which are above 25000"
   ]
  },
  {
   "cell_type": "code",
   "execution_count": 49,
   "id": "34e0d19f",
   "metadata": {},
   "outputs": [
    {
     "data": {
      "image/png": "[encoded data removed]",
      "text/plain": [
       "<Figure size 432x288 with 1 Axes>"
      ]
     },
     "metadata": {
      "needs_background": "light"
     },
     "output_type": "display_data"
    }
   ],
   "source": [
    "plt.hist(data['Total Orders'])\n",
    "plt.show()"
   ]
  },
  {
   "cell_type": "markdown",
   "id": "b0cdca53",
   "metadata": {},
   "source": [
    "Majority of the total Orders in a month are within the range 50 - 100 "
   ]
  },
  {
   "cell_type": "code",
   "execution_count": 50,
   "id": "e78c0e90",
   "metadata": {},
   "outputs": [
    {
     "data": {
      "text/plain": [
       "Year\n",
       "2017    103497.27\n",
       "2018    123568.28\n",
       "2019    155900.33\n",
       "Name: Total Sales, dtype: float64"
      ]
     },
     "execution_count": 50,
     "metadata": {},
     "output_type": "execute_result"
    }
   ],
   "source": [
    "yearly_sales = data.groupby('Year')['Total Sales'].sum()\n",
    "yearly_sales"
   ]
  },
  {
   "cell_type": "code",
   "execution_count": 69,
   "id": "cdb10ca9",
   "metadata": {
    "scrolled": true
   },
   "outputs": [
    {
     "data": {
      "image/png": "[encoded data removed]",
      "text/plain": [
       "<Figure size 432x288 with 1 Axes>"
      ]
     },
     "metadata": {
      "needs_background": "light"
     },
     "output_type": "display_data"
    }
   ],
   "source": [
    "plt.plot(yearly_sales.index, yearly_sales.values)\n",
    "plt.xticks(yearly_sales.index)\n",
    "plt.title('Total Sales by Year')\n",
    "plt.show()"
   ]
  },
  {
   "cell_type": "markdown",
   "id": "a0306869",
   "metadata": {},
   "source": [
    "There is a consistent increase in total sales over the three years.\n",
    "The percentage increase in sales is higher from 2018 to 2019 compared to the increase from 2017 to 2018."
   ]
  },
  {
   "cell_type": "code",
   "execution_count": 52,
   "id": "904fbb39",
   "metadata": {},
   "outputs": [
    {
     "data": {
      "text/plain": [
       "Month\n",
       "April        28146.58\n",
       "August       27626.58\n",
       "December     59375.46\n",
       "February     21756.81\n",
       "January      26847.69\n",
       "July         26755.57\n",
       "June         32444.36\n",
       "March        27500.28\n",
       "May          25379.69\n",
       "November     55477.15\n",
       "October      22638.20\n",
       "September    29017.51\n",
       "Name: Total Sales, dtype: float64"
      ]
     },
     "execution_count": 52,
     "metadata": {},
     "output_type": "execute_result"
    }
   ],
   "source": [
    "monthly_sales = data.groupby('Month')['Total Sales'].sum()\n",
    "monthly_sales"
   ]
  },
  {
   "cell_type": "code",
   "execution_count": 53,
   "id": "b1d6e380",
   "metadata": {},
   "outputs": [
    {
     "data": {
      "image/png": "[encoded data removed]",
      "text/plain": [
       "<Figure size 432x288 with 1 Axes>"
      ]
     },
     "metadata": {
      "needs_background": "light"
     },
     "output_type": "display_data"
    }
   ],
   "source": [
    "plt.plot(monthly_sales.index, monthly_sales.values)\n",
    "plt.xticks(monthly_sales.index,rotation=90)\n",
    "plt.title('Total Sales by Month')\n",
    "plt.show()"
   ]
  },
  {
   "cell_type": "markdown",
   "id": "b7493093",
   "metadata": {},
   "source": [
    "December has the highest total sales, indicating a potential peak in sales during the holiday season. "
   ]
  },
  {
   "cell_type": "code",
   "execution_count": 54,
   "id": "cea00ad7",
   "metadata": {},
   "outputs": [
    {
     "data": {
      "text/plain": [
       "Year\n",
       "2017     91520.50\n",
       "2018    104788.18\n",
       "2019    129796.40\n",
       "Name: Net Sales, dtype: float64"
      ]
     },
     "execution_count": 54,
     "metadata": {},
     "output_type": "execute_result"
    }
   ],
   "source": [
    "yearly_net_sales = data.groupby('Year')['Net Sales'].sum()\n",
    "yearly_net_sales"
   ]
  },
  {
   "cell_type": "code",
   "execution_count": 55,
   "id": "444fbc32",
   "metadata": {},
   "outputs": [
    {
     "data": {
      "image/png": "[encoded data removed]",
      "text/plain": [
       "<Figure size 432x288 with 1 Axes>"
      ]
     },
     "metadata": {
      "needs_background": "light"
     },
     "output_type": "display_data"
    }
   ],
   "source": [
    "plt.plot(yearly_net_sales.index, yearly_net_sales.values)\n",
    "plt.xticks(yearly_net_sales.index)\n",
    "plt.title('Net Sales by Year')\n",
    "plt.show()"
   ]
  },
  {
   "cell_type": "markdown",
   "id": "aa10e96b",
   "metadata": {},
   "source": [
    "There is a consistent increase in Net Sales over the three years.\n"
   ]
  },
  {
   "cell_type": "code",
   "execution_count": 56,
   "id": "9730ea0a",
   "metadata": {},
   "outputs": [
    {
     "data": {
      "text/plain": [
       "Year\n",
       "2017    11976.77\n",
       "2018    18780.10\n",
       "2019    26101.23\n",
       "Name: Shipping, dtype: float64"
      ]
     },
     "execution_count": 56,
     "metadata": {},
     "output_type": "execute_result"
    }
   ],
   "source": [
    "cost_of_shipping = data.groupby('Year')['Shipping'].sum()\n",
    "cost_of_shipping"
   ]
  },
  {
   "cell_type": "code",
   "execution_count": 57,
   "id": "0365bc24",
   "metadata": {
    "scrolled": true
   },
   "outputs": [
    {
     "data": {
      "image/png": "[encoded data removed]",
      "text/plain": [
       "<Figure size 432x288 with 1 Axes>"
      ]
     },
     "metadata": {
      "needs_background": "light"
     },
     "output_type": "display_data"
    }
   ],
   "source": [
    "plt.plot(cost_of_shipping.index, cost_of_shipping.values)\n",
    "plt.xticks(cost_of_shipping.index)\n",
    "plt.title('Cost of Shipping by Year')\n",
    "plt.show()"
   ]
  },
  {
   "cell_type": "markdown",
   "id": "42737620",
   "metadata": {},
   "source": [
    "The cost of Shipping has also increased in the last three years"
   ]
  },
  {
   "cell_type": "code",
   "execution_count": 58,
   "id": "9aa071f3",
   "metadata": {},
   "outputs": [
    {
     "data": {
      "text/html": [
       "<div>\n",
       "<style scoped>\n",
       "    .dataframe tbody tr th:only-of-type {\n",
       "        vertical-align: middle;\n",
       "    }\n",
       "\n",
       "    .dataframe tbody tr th {\n",
       "        vertical-align: top;\n",
       "    }\n",
       "\n",
       "    .dataframe thead th {\n",
       "        text-align: right;\n",
       "    }\n",
       "</style>\n",
       "<table border=\"1\" class=\"dataframe\">\n",
       "  <thead>\n",
       "    <tr style=\"text-align: right;\">\n",
       "      <th></th>\n",
       "      <th>Shipping</th>\n",
       "      <th>Total Sales</th>\n",
       "    </tr>\n",
       "    <tr>\n",
       "      <th>Year</th>\n",
       "      <th></th>\n",
       "      <th></th>\n",
       "    </tr>\n",
       "  </thead>\n",
       "  <tbody>\n",
       "    <tr>\n",
       "      <th>2017</th>\n",
       "      <td>11976.77</td>\n",
       "      <td>103497.27</td>\n",
       "    </tr>\n",
       "    <tr>\n",
       "      <th>2018</th>\n",
       "      <td>18780.10</td>\n",
       "      <td>123568.28</td>\n",
       "    </tr>\n",
       "    <tr>\n",
       "      <th>2019</th>\n",
       "      <td>26101.23</td>\n",
       "      <td>155900.33</td>\n",
       "    </tr>\n",
       "  </tbody>\n",
       "</table>\n",
       "</div>"
      ],
      "text/plain": [
       "      Shipping  Total Sales\n",
       "Year                       \n",
       "2017  11976.77    103497.27\n",
       "2018  18780.10    123568.28\n",
       "2019  26101.23    155900.33"
      ]
     },
     "execution_count": 58,
     "metadata": {},
     "output_type": "execute_result"
    }
   ],
   "source": [
    "cost_of_shipping_by_sales = data.groupby('Year')[['Shipping','Total Sales']].sum()\n",
    "cost_of_shipping_by_sales"
   ]
  },
  {
   "cell_type": "markdown",
   "id": "48140aee",
   "metadata": {},
   "source": [
    "The shipping cost relative to total sales has increased over the three years, indicating that shipping costs are coributing a larger portion of total revenue."
   ]
  },
  {
   "cell_type": "code",
   "execution_count": 60,
   "id": "9ffefb11",
   "metadata": {},
   "outputs": [
    {
     "data": {
      "text/plain": [
       "Year\n",
       "2017    3972.40\n",
       "2018    5412.58\n",
       "2019    7713.51\n",
       "Name: Returns, dtype: float64"
      ]
     },
     "execution_count": 60,
     "metadata": {},
     "output_type": "execute_result"
    }
   ],
   "source": [
    "yearly_returns = data.groupby('Year')['Returns'].sum()\n",
    "yearly_returns"
   ]
  },
  {
   "cell_type": "code",
   "execution_count": 61,
   "id": "ba5e2cf7",
   "metadata": {
    "scrolled": true
   },
   "outputs": [
    {
     "data": {
      "image/png": "[encoded data removed]",
      "text/plain": [
       "<Figure size 432x288 with 1 Axes>"
      ]
     },
     "metadata": {
      "needs_background": "light"
     },
     "output_type": "display_data"
    }
   ],
   "source": [
    "plt.plot(yearly_returns.index, yearly_returns.values)\n",
    "plt.xticks(yearly_returns.index)\n",
    "plt.title('Returns by Year')\n",
    "plt.show()"
   ]
  },
  {
   "cell_type": "markdown",
   "id": "4d74a5a9",
   "metadata": {},
   "source": [
    "The growth in returns is substantial, indicating that a  portion of the sales revenue is being returned to the business due to customer returns."
   ]
  },
  {
   "cell_type": "code",
   "execution_count": 26,
   "id": "d39492a2",
   "metadata": {},
   "outputs": [
    {
     "data": {
      "text/html": [
       "<div>\n",
       "<style scoped>\n",
       "    .dataframe tbody tr th:only-of-type {\n",
       "        vertical-align: middle;\n",
       "    }\n",
       "\n",
       "    .dataframe tbody tr th {\n",
       "        vertical-align: top;\n",
       "    }\n",
       "\n",
       "    .dataframe thead th {\n",
       "        text-align: right;\n",
       "    }\n",
       "</style>\n",
       "<table border=\"1\" class=\"dataframe\">\n",
       "  <thead>\n",
       "    <tr style=\"text-align: right;\">\n",
       "      <th></th>\n",
       "      <th>Month</th>\n",
       "      <th>Year</th>\n",
       "      <th>Total Orders</th>\n",
       "      <th>Gross Sales</th>\n",
       "      <th>Discounts</th>\n",
       "      <th>Returns</th>\n",
       "      <th>Net Sales</th>\n",
       "      <th>Shipping</th>\n",
       "      <th>Total Sales</th>\n",
       "    </tr>\n",
       "  </thead>\n",
       "  <tbody>\n",
       "    <tr>\n",
       "      <th>0</th>\n",
       "      <td>January</td>\n",
       "      <td>2017</td>\n",
       "      <td>73</td>\n",
       "      <td>8861.5</td>\n",
       "      <td>129.40</td>\n",
       "      <td>448.45</td>\n",
       "      <td>8283.65</td>\n",
       "      <td>1088.30</td>\n",
       "      <td>9371.95</td>\n",
       "    </tr>\n",
       "    <tr>\n",
       "      <th>1</th>\n",
       "      <td>February</td>\n",
       "      <td>2017</td>\n",
       "      <td>56</td>\n",
       "      <td>6908.5</td>\n",
       "      <td>104.70</td>\n",
       "      <td>416.20</td>\n",
       "      <td>6387.60</td>\n",
       "      <td>892.45</td>\n",
       "      <td>7280.05</td>\n",
       "    </tr>\n",
       "    <tr>\n",
       "      <th>2</th>\n",
       "      <td>March</td>\n",
       "      <td>2017</td>\n",
       "      <td>60</td>\n",
       "      <td>5778.5</td>\n",
       "      <td>172.20</td>\n",
       "      <td>1017.20</td>\n",
       "      <td>4589.10</td>\n",
       "      <td>707.43</td>\n",
       "      <td>5296.53</td>\n",
       "    </tr>\n",
       "    <tr>\n",
       "      <th>3</th>\n",
       "      <td>April</td>\n",
       "      <td>2017</td>\n",
       "      <td>70</td>\n",
       "      <td>8814.0</td>\n",
       "      <td>281.40</td>\n",
       "      <td>0.00</td>\n",
       "      <td>8532.60</td>\n",
       "      <td>1068.30</td>\n",
       "      <td>9600.90</td>\n",
       "    </tr>\n",
       "    <tr>\n",
       "      <th>4</th>\n",
       "      <td>May</td>\n",
       "      <td>2017</td>\n",
       "      <td>54</td>\n",
       "      <td>6677.0</td>\n",
       "      <td>185.75</td>\n",
       "      <td>253.80</td>\n",
       "      <td>6237.45</td>\n",
       "      <td>866.46</td>\n",
       "      <td>7103.91</td>\n",
       "    </tr>\n",
       "  </tbody>\n",
       "</table>\n",
       "</div>"
      ],
      "text/plain": [
       "      Month  Year  Total Orders  Gross Sales  Discounts  Returns  Net Sales  \\\n",
       "0   January  2017            73       8861.5     129.40   448.45    8283.65   \n",
       "1  February  2017            56       6908.5     104.70   416.20    6387.60   \n",
       "2     March  2017            60       5778.5     172.20  1017.20    4589.10   \n",
       "3     April  2017            70       8814.0     281.40     0.00    8532.60   \n",
       "4       May  2017            54       6677.0     185.75   253.80    6237.45   \n",
       "\n",
       "   Shipping  Total Sales  \n",
       "0   1088.30      9371.95  \n",
       "1    892.45      7280.05  \n",
       "2    707.43      5296.53  \n",
       "3   1068.30      9600.90  \n",
       "4    866.46      7103.91  "
      ]
     },
     "execution_count": 26,
     "metadata": {},
     "output_type": "execute_result"
    }
   ],
   "source": [
    "data.head()"
   ]
  },
  {
   "cell_type": "code",
   "execution_count": 64,
   "id": "9ee16d34",
   "metadata": {},
   "outputs": [
    {
     "data": {
      "text/html": [
       "<div>\n",
       "<style scoped>\n",
       "    .dataframe tbody tr th:only-of-type {\n",
       "        vertical-align: middle;\n",
       "    }\n",
       "\n",
       "    .dataframe tbody tr th {\n",
       "        vertical-align: top;\n",
       "    }\n",
       "\n",
       "    .dataframe thead th {\n",
       "        text-align: right;\n",
       "    }\n",
       "</style>\n",
       "<table border=\"1\" class=\"dataframe\">\n",
       "  <thead>\n",
       "    <tr style=\"text-align: right;\">\n",
       "      <th></th>\n",
       "      <th>Total Orders</th>\n",
       "      <th>Gross Sales</th>\n",
       "      <th>Discounts</th>\n",
       "      <th>Returns</th>\n",
       "      <th>Net Sales</th>\n",
       "      <th>Shipping</th>\n",
       "      <th>Total Sales</th>\n",
       "    </tr>\n",
       "    <tr>\n",
       "      <th>Year</th>\n",
       "      <th></th>\n",
       "      <th></th>\n",
       "      <th></th>\n",
       "      <th></th>\n",
       "      <th></th>\n",
       "      <th></th>\n",
       "      <th></th>\n",
       "    </tr>\n",
       "  </thead>\n",
       "  <tbody>\n",
       "    <tr>\n",
       "      <th>2017</th>\n",
       "      <td>836</td>\n",
       "      <td>97342.05</td>\n",
       "      <td>1849.15</td>\n",
       "      <td>3972.40</td>\n",
       "      <td>91520.50</td>\n",
       "      <td>11976.77</td>\n",
       "      <td>103497.27</td>\n",
       "    </tr>\n",
       "    <tr>\n",
       "      <th>2018</th>\n",
       "      <td>1141</td>\n",
       "      <td>113313.15</td>\n",
       "      <td>3112.39</td>\n",
       "      <td>5412.58</td>\n",
       "      <td>104788.18</td>\n",
       "      <td>18780.10</td>\n",
       "      <td>123568.28</td>\n",
       "    </tr>\n",
       "    <tr>\n",
       "      <th>2019</th>\n",
       "      <td>1520</td>\n",
       "      <td>143762.15</td>\n",
       "      <td>6252.24</td>\n",
       "      <td>7713.51</td>\n",
       "      <td>129796.40</td>\n",
       "      <td>26101.23</td>\n",
       "      <td>155900.33</td>\n",
       "    </tr>\n",
       "  </tbody>\n",
       "</table>\n",
       "</div>"
      ],
      "text/plain": [
       "      Total Orders  Gross Sales  Discounts  Returns  Net Sales  Shipping  \\\n",
       "Year                                                                       \n",
       "2017           836     97342.05    1849.15  3972.40   91520.50  11976.77   \n",
       "2018          1141    113313.15    3112.39  5412.58  104788.18  18780.10   \n",
       "2019          1520    143762.15    6252.24  7713.51  129796.40  26101.23   \n",
       "\n",
       "      Total Sales  \n",
       "Year               \n",
       "2017    103497.27  \n",
       "2018    123568.28  \n",
       "2019    155900.33  "
      ]
     },
     "execution_count": 64,
     "metadata": {},
     "output_type": "execute_result"
    }
   ],
   "source": [
    "yearly_summary = data.groupby('Year').sum()\n",
    "yearly_summary"
   ]
  },
  {
   "cell_type": "code",
   "execution_count": 65,
   "id": "3573a7c1",
   "metadata": {},
   "outputs": [
    {
     "data": {
      "image/png": "[encoded data removed]",
      "text/plain": [
       "<Figure size 432x288 with 1 Axes>"
      ]
     },
     "metadata": {
      "needs_background": "light"
     },
     "output_type": "display_data"
    }
   ],
   "source": [
    "sb.lineplot(data=yearly_summary, x='Year', y='Discounts', label='Discounts Impact (%)', marker='o')\n",
    "sb.lineplot(data=yearly_summary, x='Year', y='Returns', label='Return Impact (%)', marker='o')\n",
    "sb.lineplot(data=yearly_summary, x='Year', y='Net Sales', label='Net Sales (%)', marker='o')\n",
    "sb.lineplot(data=yearly_summary, x='Year', y='Gross Sales', label='Gross Sales (%)', marker='o')\n",
    "\n",
    "plt.xticks(dis.index)\n",
    "plt.show()"
   ]
  },
  {
   "cell_type": "markdown",
   "id": "0799fe3a",
   "metadata": {},
   "source": [
    "### Conclusion\n",
    "- December and November are the month with the highest sale, the lowest sales was recorded in the month of Febuary\n",
    "\n",
    "- The total Sales, Net sales and gross sales as experience a steady increase with 2018-2019, while the discounts and returns have also increased. This means that the business has been able to maintain profitabilty despite the discounts and returns.\n",
    "\n",
    "- The shipping cost relative to total sales has increased over the three years, indicating that shipping costs are contribute a larger portion of total revenue. This might have an impact on the overall profitability on the business"
   ]
  },
  {
   "cell_type": "markdown",
   "id": "25328e02",
   "metadata": {},
   "source": [
    "### Recommendation\n",
    "- Explore strategies to manage and optimize shipping. \n",
    "\n",
    "- Since February has consistently shown the lowest sales, consider implementing targeted marketing campaigns or promotions during this month.\n",
    "\n",
    "- Address any common reasons for returns related to product quality or functionality."
   ]
  },
  {
   "cell_type": "code",
   "execution_count": 31,
   "id": "78d40a9a",
   "metadata": {
    "scrolled": true
   },
   "outputs": [
    {
     "data": {
      "text/plain": [
       "<AxesSubplot:xlabel='Discounts', ylabel='Total Sales'>"
      ]
     },
     "execution_count": 31,
     "metadata": {},
     "output_type": "execute_result"
    },
    {
     "data": {
      "image/png": "[encoded data removed]",
      "text/plain": [
       "<Figure size 432x288 with 1 Axes>"
      ]
     },
     "metadata": {
      "needs_background": "light"
     },
     "output_type": "display_data"
    }
   ],
   "source": [
    "sb.scatterplot(x='Discounts', y='Total Sales', data= data)\n"
   ]
  },
  {
   "cell_type": "code",
   "execution_count": 70,
   "id": "01a3fb27",
   "metadata": {},
   "outputs": [
    {
     "data": {
      "text/html": [
       "<div>\n",
       "<style scoped>\n",
       "    .dataframe tbody tr th:only-of-type {\n",
       "        vertical-align: middle;\n",
       "    }\n",
       "\n",
       "    .dataframe tbody tr th {\n",
       "        vertical-align: top;\n",
       "    }\n",
       "\n",
       "    .dataframe thead th {\n",
       "        text-align: right;\n",
       "    }\n",
       "</style>\n",
       "<table border=\"1\" class=\"dataframe\">\n",
       "  <thead>\n",
       "    <tr style=\"text-align: right;\">\n",
       "      <th></th>\n",
       "      <th>Total Orders</th>\n",
       "      <th>Gross Sales</th>\n",
       "      <th>Discounts</th>\n",
       "      <th>Returns</th>\n",
       "      <th>Net Sales</th>\n",
       "      <th>Shipping</th>\n",
       "      <th>Total Sales</th>\n",
       "    </tr>\n",
       "  </thead>\n",
       "  <tbody>\n",
       "    <tr>\n",
       "      <th>Total Orders</th>\n",
       "      <td>1.000000</td>\n",
       "      <td>0.959038</td>\n",
       "      <td>0.872706</td>\n",
       "      <td>0.334205</td>\n",
       "      <td>0.945976</td>\n",
       "      <td>0.981529</td>\n",
       "      <td>0.958194</td>\n",
       "    </tr>\n",
       "    <tr>\n",
       "      <th>Gross Sales</th>\n",
       "      <td>0.959038</td>\n",
       "      <td>1.000000</td>\n",
       "      <td>0.881440</td>\n",
       "      <td>0.305244</td>\n",
       "      <td>0.993381</td>\n",
       "      <td>0.970914</td>\n",
       "      <td>0.995165</td>\n",
       "    </tr>\n",
       "    <tr>\n",
       "      <th>Discounts</th>\n",
       "      <td>0.872706</td>\n",
       "      <td>0.881440</td>\n",
       "      <td>1.000000</td>\n",
       "      <td>0.327703</td>\n",
       "      <td>0.851237</td>\n",
       "      <td>0.876376</td>\n",
       "      <td>0.860966</td>\n",
       "    </tr>\n",
       "    <tr>\n",
       "      <th>Returns</th>\n",
       "      <td>0.334205</td>\n",
       "      <td>0.305244</td>\n",
       "      <td>0.327703</td>\n",
       "      <td>1.000000</td>\n",
       "      <td>0.199926</td>\n",
       "      <td>0.317620</td>\n",
       "      <td>0.222878</td>\n",
       "    </tr>\n",
       "    <tr>\n",
       "      <th>Net Sales</th>\n",
       "      <td>0.945976</td>\n",
       "      <td>0.993381</td>\n",
       "      <td>0.851237</td>\n",
       "      <td>0.199926</td>\n",
       "      <td>1.000000</td>\n",
       "      <td>0.960518</td>\n",
       "      <td>0.998678</td>\n",
       "    </tr>\n",
       "    <tr>\n",
       "      <th>Shipping</th>\n",
       "      <td>0.981529</td>\n",
       "      <td>0.970914</td>\n",
       "      <td>0.876376</td>\n",
       "      <td>0.317620</td>\n",
       "      <td>0.960518</td>\n",
       "      <td>1.000000</td>\n",
       "      <td>0.973547</td>\n",
       "    </tr>\n",
       "    <tr>\n",
       "      <th>Total Sales</th>\n",
       "      <td>0.958194</td>\n",
       "      <td>0.995165</td>\n",
       "      <td>0.860966</td>\n",
       "      <td>0.222878</td>\n",
       "      <td>0.998678</td>\n",
       "      <td>0.973547</td>\n",
       "      <td>1.000000</td>\n",
       "    </tr>\n",
       "  </tbody>\n",
       "</table>\n",
       "</div>"
      ],
      "text/plain": [
       "              Total Orders  Gross Sales  Discounts   Returns  Net Sales  \\\n",
       "Total Orders      1.000000     0.959038   0.872706  0.334205   0.945976   \n",
       "Gross Sales       0.959038     1.000000   0.881440  0.305244   0.993381   \n",
       "Discounts         0.872706     0.881440   1.000000  0.327703   0.851237   \n",
       "Returns           0.334205     0.305244   0.327703  1.000000   0.199926   \n",
       "Net Sales         0.945976     0.993381   0.851237  0.199926   1.000000   \n",
       "Shipping          0.981529     0.970914   0.876376  0.317620   0.960518   \n",
       "Total Sales       0.958194     0.995165   0.860966  0.222878   0.998678   \n",
       "\n",
       "              Shipping  Total Sales  \n",
       "Total Orders  0.981529     0.958194  \n",
       "Gross Sales   0.970914     0.995165  \n",
       "Discounts     0.876376     0.860966  \n",
       "Returns       0.317620     0.222878  \n",
       "Net Sales     0.960518     0.998678  \n",
       "Shipping      1.000000     0.973547  \n",
       "Total Sales   0.973547     1.000000  "
      ]
     },
     "execution_count": 70,
     "metadata": {},
     "output_type": "execute_result"
    }
   ],
   "source": [
    "data.corr()"
   ]
  },
  {
   "cell_type": "code",
   "execution_count": 73,
   "id": "aa757b9e",
   "metadata": {},
   "outputs": [
    {
     "data": {
      "text/plain": [
       "<AxesSubplot:>"
      ]
     },
     "execution_count": 73,
     "metadata": {},
     "output_type": "execute_result"
    },
    {
     "data": {
      "image/png": "[encoded data removed]",
      "text/plain": [
       "<Figure size 432x288 with 2 Axes>"
      ]
     },
     "metadata": {
      "needs_background": "light"
     },
     "output_type": "display_data"
    }
   ],
   "source": [
    "sb.heatmap(data=data.corr(), annot=True)\n",
    "# data.corr()"
   ]
  },
  {
   "cell_type": "code",
   "execution_count": null,
   "id": "4fe8c579",
   "metadata": {},
   "outputs": [],
   "source": []
  }
 ],
 "metadata": {
  "kernelspec": {
   "display_name": "Python 3 (ipykernel)",
   "language": "python",
   "name": "python3"
  },
  "language_info": {
   "codemirror_mode": {
    "name": "ipython",
    "version": 3
   },
   "file_extension": ".py",
   "mimetype": "text/x-python",
   "name": "python",
   "nbconvert_exporter": "python",
   "pygments_lexer": "ipython3",
   "version": "3.9.12"
  }
 },
 "nbformat": 4,
 "nbformat_minor": 5
}
